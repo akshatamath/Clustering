{
 "cells": [
  {
   "cell_type": "code",
   "execution_count": 1,
   "metadata": {},
   "outputs": [],
   "source": [
    "import pandas as pd\n",
    "import numpy as np"
   ]
  },
  {
   "cell_type": "code",
   "execution_count": 2,
   "metadata": {},
   "outputs": [],
   "source": [
    "data=pd.read_csv(\"busigence.csv\")"
   ]
  },
  {
   "cell_type": "code",
   "execution_count": 4,
   "metadata": {},
   "outputs": [
    {
     "data": {
      "text/plain": [
       "Customer                          object\n",
       "State                             object\n",
       "Customer Lifetime Value          float64\n",
       "Response                          object\n",
       "Coverage                          object\n",
       "Education                         object\n",
       "Effective To Date                 object\n",
       "EmploymentStatus                  object\n",
       "Gender                            object\n",
       "Income                           float64\n",
       "Location Code                     object\n",
       "Marital Status                    object\n",
       "Monthly Premium Auto             float64\n",
       "Months Since Last Claim          float64\n",
       "Months Since Policy Inception    float64\n",
       "Number of Open Complaints        float64\n",
       "Number of Policies               float64\n",
       "Policy Type                       object\n",
       "Policy                            object\n",
       "Renew Offer Type                  object\n",
       "Sales Channel                     object\n",
       "Total Claim Amount               float64\n",
       "Vehicle Class                     object\n",
       "Vehicle Size                      object\n",
       "dtype: object"
      ]
     },
     "execution_count": 4,
     "metadata": {},
     "output_type": "execute_result"
    }
   ],
   "source": [
    "data.dtypes"
   ]
  },
  {
   "cell_type": "code",
   "execution_count": 5,
   "metadata": {},
   "outputs": [
    {
     "data": {
      "text/plain": [
       "(8294, 24)"
      ]
     },
     "execution_count": 5,
     "metadata": {},
     "output_type": "execute_result"
    }
   ],
   "source": [
    "data.shape"
   ]
  },
  {
   "cell_type": "code",
   "execution_count": 6,
   "metadata": {},
   "outputs": [
    {
     "data": {
      "text/html": [
       "<div>\n",
       "<style scoped>\n",
       "    .dataframe tbody tr th:only-of-type {\n",
       "        vertical-align: middle;\n",
       "    }\n",
       "\n",
       "    .dataframe tbody tr th {\n",
       "        vertical-align: top;\n",
       "    }\n",
       "\n",
       "    .dataframe thead th {\n",
       "        text-align: right;\n",
       "    }\n",
       "</style>\n",
       "<table border=\"1\" class=\"dataframe\">\n",
       "  <thead>\n",
       "    <tr style=\"text-align: right;\">\n",
       "      <th></th>\n",
       "      <th>Customer</th>\n",
       "      <th>State</th>\n",
       "      <th>Customer Lifetime Value</th>\n",
       "      <th>Response</th>\n",
       "      <th>Coverage</th>\n",
       "      <th>Education</th>\n",
       "      <th>Effective To Date</th>\n",
       "      <th>EmploymentStatus</th>\n",
       "      <th>Gender</th>\n",
       "      <th>Income</th>\n",
       "      <th>...</th>\n",
       "      <th>Months Since Policy Inception</th>\n",
       "      <th>Number of Open Complaints</th>\n",
       "      <th>Number of Policies</th>\n",
       "      <th>Policy Type</th>\n",
       "      <th>Policy</th>\n",
       "      <th>Renew Offer Type</th>\n",
       "      <th>Sales Channel</th>\n",
       "      <th>Total Claim Amount</th>\n",
       "      <th>Vehicle Class</th>\n",
       "      <th>Vehicle Size</th>\n",
       "    </tr>\n",
       "  </thead>\n",
       "  <tbody>\n",
       "    <tr>\n",
       "      <th>0</th>\n",
       "      <td>BU79786</td>\n",
       "      <td>Washington</td>\n",
       "      <td>2763.519279</td>\n",
       "      <td>No</td>\n",
       "      <td>Basic</td>\n",
       "      <td>Bachelor</td>\n",
       "      <td>2/24/11</td>\n",
       "      <td>Employed</td>\n",
       "      <td>F</td>\n",
       "      <td>56274.0</td>\n",
       "      <td>...</td>\n",
       "      <td>5.0</td>\n",
       "      <td>0.0</td>\n",
       "      <td>1.0</td>\n",
       "      <td>Corporate Auto</td>\n",
       "      <td>Corporate L3</td>\n",
       "      <td>Offer1</td>\n",
       "      <td>Agent</td>\n",
       "      <td>384.811147</td>\n",
       "      <td>Two-Door Car</td>\n",
       "      <td>Medsize</td>\n",
       "    </tr>\n",
       "    <tr>\n",
       "      <th>1</th>\n",
       "      <td>QZ44356</td>\n",
       "      <td>Arizona</td>\n",
       "      <td>6979.535903</td>\n",
       "      <td>No</td>\n",
       "      <td>Extended</td>\n",
       "      <td>Bachelor</td>\n",
       "      <td>1/31/11</td>\n",
       "      <td>Unemployed</td>\n",
       "      <td>F</td>\n",
       "      <td>0.0</td>\n",
       "      <td>...</td>\n",
       "      <td>42.0</td>\n",
       "      <td>0.0</td>\n",
       "      <td>8.0</td>\n",
       "      <td>Personal Auto</td>\n",
       "      <td>Personal L3</td>\n",
       "      <td>Offer3</td>\n",
       "      <td>Agent</td>\n",
       "      <td>1131.464935</td>\n",
       "      <td>Four-Door Car</td>\n",
       "      <td>Medsize</td>\n",
       "    </tr>\n",
       "    <tr>\n",
       "      <th>2</th>\n",
       "      <td>AI49188</td>\n",
       "      <td>Nevada</td>\n",
       "      <td>12887.431650</td>\n",
       "      <td>No</td>\n",
       "      <td>Premium</td>\n",
       "      <td>Bachelor</td>\n",
       "      <td>2/19/11</td>\n",
       "      <td>Employed</td>\n",
       "      <td>F</td>\n",
       "      <td>48767.0</td>\n",
       "      <td>...</td>\n",
       "      <td>38.0</td>\n",
       "      <td>0.0</td>\n",
       "      <td>2.0</td>\n",
       "      <td>Personal Auto</td>\n",
       "      <td>Personal L3</td>\n",
       "      <td>Offer1</td>\n",
       "      <td>Agent</td>\n",
       "      <td>566.472247</td>\n",
       "      <td>Two-Door Car</td>\n",
       "      <td>Medsize</td>\n",
       "    </tr>\n",
       "    <tr>\n",
       "      <th>3</th>\n",
       "      <td>WW63253</td>\n",
       "      <td>California</td>\n",
       "      <td>7645.861827</td>\n",
       "      <td>No</td>\n",
       "      <td>Basic</td>\n",
       "      <td>Bachelor</td>\n",
       "      <td>1/20/11</td>\n",
       "      <td>Unemployed</td>\n",
       "      <td>M</td>\n",
       "      <td>0.0</td>\n",
       "      <td>...</td>\n",
       "      <td>65.0</td>\n",
       "      <td>0.0</td>\n",
       "      <td>7.0</td>\n",
       "      <td>Corporate Auto</td>\n",
       "      <td>Corporate L2</td>\n",
       "      <td>Offer1</td>\n",
       "      <td>Call Center</td>\n",
       "      <td>529.881344</td>\n",
       "      <td>SUV</td>\n",
       "      <td>Medsize</td>\n",
       "    </tr>\n",
       "    <tr>\n",
       "      <th>4</th>\n",
       "      <td>HB64268</td>\n",
       "      <td>Washington</td>\n",
       "      <td>2813.692575</td>\n",
       "      <td>No</td>\n",
       "      <td>Basic</td>\n",
       "      <td>Bachelor</td>\n",
       "      <td>02/03/11</td>\n",
       "      <td>Employed</td>\n",
       "      <td>M</td>\n",
       "      <td>43836.0</td>\n",
       "      <td>...</td>\n",
       "      <td>44.0</td>\n",
       "      <td>0.0</td>\n",
       "      <td>1.0</td>\n",
       "      <td>Personal Auto</td>\n",
       "      <td>Personal L1</td>\n",
       "      <td>Offer1</td>\n",
       "      <td>Agent</td>\n",
       "      <td>138.130879</td>\n",
       "      <td>Four-Door Car</td>\n",
       "      <td>Medsize</td>\n",
       "    </tr>\n",
       "    <tr>\n",
       "      <th>5</th>\n",
       "      <td>OC83172</td>\n",
       "      <td>Oregon</td>\n",
       "      <td>8256.297800</td>\n",
       "      <td>Yes</td>\n",
       "      <td>Basic</td>\n",
       "      <td>Bachelor</td>\n",
       "      <td>1/25/11</td>\n",
       "      <td>Employed</td>\n",
       "      <td>F</td>\n",
       "      <td>62902.0</td>\n",
       "      <td>...</td>\n",
       "      <td>94.0</td>\n",
       "      <td>0.0</td>\n",
       "      <td>2.0</td>\n",
       "      <td>Personal Auto</td>\n",
       "      <td>Personal L3</td>\n",
       "      <td>Offer2</td>\n",
       "      <td>Web</td>\n",
       "      <td>159.383042</td>\n",
       "      <td>Two-Door Car</td>\n",
       "      <td>Medsize</td>\n",
       "    </tr>\n",
       "  </tbody>\n",
       "</table>\n",
       "<p>6 rows × 24 columns</p>\n",
       "</div>"
      ],
      "text/plain": [
       "  Customer       State  Customer Lifetime Value Response  Coverage Education  \\\n",
       "0  BU79786  Washington              2763.519279       No     Basic  Bachelor   \n",
       "1  QZ44356     Arizona              6979.535903       No  Extended  Bachelor   \n",
       "2  AI49188      Nevada             12887.431650       No   Premium  Bachelor   \n",
       "3  WW63253  California              7645.861827       No     Basic  Bachelor   \n",
       "4  HB64268  Washington              2813.692575       No     Basic  Bachelor   \n",
       "5  OC83172      Oregon              8256.297800      Yes     Basic  Bachelor   \n",
       "\n",
       "  Effective To Date EmploymentStatus Gender   Income  ...  \\\n",
       "0           2/24/11         Employed      F  56274.0  ...   \n",
       "1           1/31/11       Unemployed      F      0.0  ...   \n",
       "2           2/19/11         Employed      F  48767.0  ...   \n",
       "3           1/20/11       Unemployed      M      0.0  ...   \n",
       "4          02/03/11         Employed      M  43836.0  ...   \n",
       "5           1/25/11         Employed      F  62902.0  ...   \n",
       "\n",
       "  Months Since Policy Inception Number of Open Complaints  Number of Policies  \\\n",
       "0                           5.0                       0.0                 1.0   \n",
       "1                          42.0                       0.0                 8.0   \n",
       "2                          38.0                       0.0                 2.0   \n",
       "3                          65.0                       0.0                 7.0   \n",
       "4                          44.0                       0.0                 1.0   \n",
       "5                          94.0                       0.0                 2.0   \n",
       "\n",
       "      Policy Type        Policy  Renew Offer Type  Sales Channel  \\\n",
       "0  Corporate Auto  Corporate L3            Offer1          Agent   \n",
       "1   Personal Auto   Personal L3            Offer3          Agent   \n",
       "2   Personal Auto   Personal L3            Offer1          Agent   \n",
       "3  Corporate Auto  Corporate L2            Offer1    Call Center   \n",
       "4   Personal Auto   Personal L1            Offer1          Agent   \n",
       "5   Personal Auto   Personal L3            Offer2            Web   \n",
       "\n",
       "  Total Claim Amount  Vehicle Class Vehicle Size  \n",
       "0         384.811147   Two-Door Car      Medsize  \n",
       "1        1131.464935  Four-Door Car      Medsize  \n",
       "2         566.472247   Two-Door Car      Medsize  \n",
       "3         529.881344            SUV      Medsize  \n",
       "4         138.130879  Four-Door Car      Medsize  \n",
       "5         159.383042   Two-Door Car      Medsize  \n",
       "\n",
       "[6 rows x 24 columns]"
      ]
     },
     "execution_count": 6,
     "metadata": {},
     "output_type": "execute_result"
    }
   ],
   "source": [
    "data.head(6)"
   ]
  },
  {
   "cell_type": "code",
   "execution_count": 7,
   "metadata": {},
   "outputs": [
    {
     "data": {
      "text/plain": [
       "Customer                         0\n",
       "State                            0\n",
       "Customer Lifetime Value          0\n",
       "Response                         0\n",
       "Coverage                         0\n",
       "Education                        0\n",
       "Effective To Date                0\n",
       "EmploymentStatus                 1\n",
       "Gender                           1\n",
       "Income                           1\n",
       "Location Code                    1\n",
       "Marital Status                   1\n",
       "Monthly Premium Auto             1\n",
       "Months Since Last Claim          1\n",
       "Months Since Policy Inception    1\n",
       "Number of Open Complaints        1\n",
       "Number of Policies               1\n",
       "Policy Type                      1\n",
       "Policy                           1\n",
       "Renew Offer Type                 1\n",
       "Sales Channel                    1\n",
       "Total Claim Amount               1\n",
       "Vehicle Class                    1\n",
       "Vehicle Size                     1\n",
       "dtype: int64"
      ]
     },
     "execution_count": 7,
     "metadata": {},
     "output_type": "execute_result"
    }
   ],
   "source": [
    "data.isnull().sum()"
   ]
  },
  {
   "cell_type": "code",
   "execution_count": 8,
   "metadata": {},
   "outputs": [],
   "source": [
    "data=data.dropna()"
   ]
  },
  {
   "cell_type": "code",
   "execution_count": 9,
   "metadata": {},
   "outputs": [
    {
     "data": {
      "text/plain": [
       "(8293, 24)"
      ]
     },
     "execution_count": 9,
     "metadata": {},
     "output_type": "execute_result"
    }
   ],
   "source": [
    "data.shape"
   ]
  },
  {
   "cell_type": "code",
   "execution_count": 12,
   "metadata": {},
   "outputs": [],
   "source": [
    "data=data.drop(['Customer','Effective To Date'],axis=1)"
   ]
  },
  {
   "cell_type": "code",
   "execution_count": 13,
   "metadata": {},
   "outputs": [
    {
     "data": {
      "text/plain": [
       "(8293, 22)"
      ]
     },
     "execution_count": 13,
     "metadata": {},
     "output_type": "execute_result"
    }
   ],
   "source": [
    "data.shape"
   ]
  },
  {
   "cell_type": "code",
   "execution_count": 15,
   "metadata": {},
   "outputs": [],
   "source": [
    "data=pd.get_dummies(data)"
   ]
  },
  {
   "cell_type": "code",
   "execution_count": 16,
   "metadata": {},
   "outputs": [
    {
     "data": {
      "text/plain": [
       "(8293, 65)"
      ]
     },
     "execution_count": 16,
     "metadata": {},
     "output_type": "execute_result"
    }
   ],
   "source": [
    "data.shape"
   ]
  },
  {
   "cell_type": "code",
   "execution_count": 18,
   "metadata": {},
   "outputs": [],
   "source": [
    "import sklearn.preprocessing as preprocessing\n",
    "dat_scaled=preprocessing.scale(data,axis=0)"
   ]
  },
  {
   "cell_type": "code",
   "execution_count": 19,
   "metadata": {},
   "outputs": [],
   "source": [
    "import sklearn.cluster as cluster"
   ]
  },
  {
   "cell_type": "code",
   "execution_count": 21,
   "metadata": {},
   "outputs": [],
   "source": [
    "kmeans=cluster.KMeans(n_clusters=10,init=\"k-means++\")\n",
    "kmeans=kmeans.fit(dat_scaled)"
   ]
  },
  {
   "cell_type": "code",
   "execution_count": 22,
   "metadata": {},
   "outputs": [
    {
     "data": {
      "text/plain": [
       "array([7, 9, 8, ..., 9, 7, 9])"
      ]
     },
     "execution_count": 22,
     "metadata": {},
     "output_type": "execute_result"
    }
   ],
   "source": [
    "kmeans.labels_"
   ]
  },
  {
   "cell_type": "code",
   "execution_count": 24,
   "metadata": {},
   "outputs": [
    {
     "data": {
      "text/plain": [
       "array([[-1.84021935e-03,  6.40842425e-01, -1.61643323e-01,\n",
       "         5.59323715e-03,  3.98407124e-02,  2.59777837e-02,\n",
       "         2.31623543e-02, -3.76235896e-01, -1.71210245e-02,\n",
       "        -1.92729955e-02,  1.62519161e-02,  3.68409875e-02,\n",
       "        -2.13852185e-02,  4.12317406e-01, -4.12317406e-01,\n",
       "         4.04775849e-02,  9.53629286e-03, -8.41656767e-02,\n",
       "         2.98596672e-02,  1.86910492e-02,  1.00311105e-01,\n",
       "        -1.62291488e-01,  1.18824594e-01, -2.13643808e-01,\n",
       "         6.45147669e-01, -2.22741942e-01, -1.64154616e-01,\n",
       "        -4.44273902e-01,  1.23768193e-01, -1.23768193e-01,\n",
       "        -4.94416605e-01, -1.30501490e+00,  2.18243668e+00,\n",
       "        -4.14157296e-02,  2.89389957e-01, -2.88816572e-01,\n",
       "        -5.11543308e-01,  5.80459940e-01, -2.16100631e-01,\n",
       "        -1.94736753e-01, -2.61290212e-01, -3.46074784e-01,\n",
       "         1.55073930e-01,  1.57443769e-01,  2.73022413e-01,\n",
       "        -8.88811237e-02, -1.41151509e-01, -1.32461361e-01,\n",
       "        -1.10406685e-01,  3.95789012e-02,  7.88803206e-02,\n",
       "         2.27662293e-02, -8.86260842e-02,  3.34759469e-02,\n",
       "         4.62259937e-02,  2.76498301e-02,  4.03211548e-02,\n",
       "        -1.35722988e-01, -1.44665920e-01,  4.06242144e-02,\n",
       "        -3.60866265e-02,  2.59501318e-02, -4.44404023e-02,\n",
       "         2.07659714e-01, -2.05878273e-01],\n",
       "       [ 8.94483716e-02,  2.91759744e-02, -3.05381815e-02,\n",
       "        -2.94149505e-02, -5.81180793e-02,  4.95704741e-03,\n",
       "        -2.65508643e-02,  1.82843577e-02,  1.01082577e-02,\n",
       "         1.10876431e-02, -2.70413895e-02,  3.25002384e-02,\n",
       "        -5.41561789e-02, -5.80511740e-02,  5.80511740e-02,\n",
       "        -2.61217672e-02,  5.31306041e-02, -4.05615505e-02,\n",
       "        -3.46387354e-02,  5.09423928e-02, -2.92914449e-02,\n",
       "         9.79297430e-03, -2.25356292e-02,  2.57528545e-02,\n",
       "        -1.31942252e-02,  2.05531693e-02, -2.88825682e-03,\n",
       "        -6.31240731e-03,  2.89140416e-02, -2.89140416e-02,\n",
       "        -2.24786555e-02, -2.73443651e-02,  5.84435396e-02,\n",
       "        -8.71034546e-02,  3.41592689e-02,  3.22973931e-02,\n",
       "        -5.11543308e-01, -1.72277177e+00,  4.62747377e+00,\n",
       "        -1.94736753e-01, -2.61290212e-01, -3.46074784e-01,\n",
       "        -4.01244041e-01, -5.33983797e-01, -7.95286310e-01,\n",
       "         1.91408398e+00,  3.03974378e+00,  2.81084952e+00,\n",
       "        -3.82239803e-02,  4.63591430e-02, -2.52925694e-02,\n",
       "         1.99992653e-02,  2.64723444e-02,  1.43070021e-02,\n",
       "        -8.92365991e-02,  4.49764726e-02,  2.74441684e-02,\n",
       "        -3.37709283e-02, -2.96037901e-02,  7.19620520e-03,\n",
       "         6.45548713e-02, -5.52221647e-02, -2.97072781e-02,\n",
       "        -3.09845210e-02,  5.87850808e-02],\n",
       "       [ 1.31852598e+00,  2.17491689e-02,  3.47307699e+00,\n",
       "         2.93241865e-02,  1.36611089e-01,  9.36763026e-03,\n",
       "        -3.03038261e-02,  2.28535201e+00, -4.47794958e-02,\n",
       "         2.98138062e-02, -9.90970926e-03,  1.78781527e-02,\n",
       "        -2.75673547e-03,  3.58029418e-02, -3.58029418e-02,\n",
       "        -1.44697442e-01,  4.07152264e-02,  1.81156496e-01,\n",
       "         6.51549406e-03, -6.57954029e-02, -8.12108360e-02,\n",
       "         9.05728785e-02,  5.32990694e-03, -2.35726714e-02,\n",
       "         9.75239326e-02, -8.54921706e-02, -4.50530429e-02,\n",
       "        -3.79610966e-02, -1.19332909e-01,  1.19332909e-01,\n",
       "        -1.84882330e-01,  2.56831361e-01, -1.33464526e-01,\n",
       "        -2.32952970e-02, -5.58853796e-02,  8.10441734e-02,\n",
       "        -1.66645233e-02,  1.03415184e-01, -1.84750634e-01,\n",
       "        -5.00012982e-03,  5.62594826e-02, -6.33503867e-02,\n",
       "         9.50508571e-02, -9.00294653e-02,  1.01522231e-01,\n",
       "        -8.88811237e-02, -1.41151509e-01, -8.27407617e-02,\n",
       "         7.42032107e-02, -1.39446830e-01,  3.40987768e-02,\n",
       "         5.11936964e-02,  8.12981427e-03, -1.57543918e-02,\n",
       "        -7.03780341e-02,  8.71823122e-02, -1.01616831e+00,\n",
       "         3.38541740e+00,  3.60087328e+00, -4.88743931e-01,\n",
       "        -2.37556564e-01, -5.11168050e-01, -3.38236950e-02,\n",
       "        -6.94462169e-02,  1.06453580e-01],\n",
       "       [-7.17091021e-02,  4.85913052e-02, -9.23606118e-02,\n",
       "        -3.55887784e-02, -5.44788022e-03, -1.61224616e-02,\n",
       "        -3.62257911e-02, -3.90864541e-02,  4.09066723e-03,\n",
       "         1.63185933e-02,  8.18444593e-03, -2.12356730e-02,\n",
       "        -6.09948065e-03, -2.42531600e+00,  2.42531600e+00,\n",
       "        -3.29137673e-02,  5.79384470e-02, -3.66939468e-02,\n",
       "        -4.92607142e-02,  7.25752439e-02,  5.97218863e-02,\n",
       "        -4.44291807e-02, -6.32556737e-03, -2.13643808e-01,\n",
       "         3.05906329e-03, -2.22741942e-01,  8.79921190e-01,\n",
       "        -1.41741134e-01, -6.86619170e-02,  6.86619170e-02,\n",
       "        -1.76393624e-01,  2.80886160e-01, -1.73037121e-01,\n",
       "         2.33692611e-01, -8.96936405e-02, -8.88269067e-02,\n",
       "        -3.47746801e-02,  1.35234803e-01, -2.16100631e-01,\n",
       "         2.39837879e-02, -3.17010970e-02, -3.50915167e-02,\n",
       "         4.55912552e-02,  2.74062207e-02,  6.48062389e-02,\n",
       "        -8.88811237e-02, -1.41151509e-01, -1.32461361e-01,\n",
       "         5.32277257e-02,  4.74251088e-01, -3.70247623e-01,\n",
       "        -3.57331237e-01,  3.18058303e-01, -1.21053193e-01,\n",
       "        -1.27411017e-01, -1.40929768e-01, -4.62811553e-02,\n",
       "        -1.35722988e-01, -1.44665920e-01,  8.61038871e-02,\n",
       "         1.03418277e-01,  1.11046094e-02,  9.72998110e-02,\n",
       "         8.08371236e-02, -1.68656402e-01],\n",
       "       [-9.65562358e-03,  6.02578057e-01, -1.86425203e-01,\n",
       "         4.03020578e-02, -1.61375955e-02,  2.26962091e-02,\n",
       "         4.65622672e-02, -1.12415048e+00, -7.22391091e-04,\n",
       "         2.17005444e-02, -3.17073564e-02, -1.48968976e-02,\n",
       "         2.36377415e-02,  4.09518951e-01, -4.09518951e-01,\n",
       "         1.13680203e-02,  1.09061665e-02, -3.68053458e-02,\n",
       "         3.34581119e-02,  1.86025185e-03,  6.80979864e-02,\n",
       "        -1.89455307e-01,  2.09382291e-01, -2.13643808e-01,\n",
       "         6.14055818e-01, -2.22741942e-01, -1.77029336e-01,\n",
       "        -4.04570348e-01,  9.09571093e-02, -9.09571093e-02,\n",
       "         2.02258579e+00, -1.30501490e+00, -4.58203442e-01,\n",
       "         2.24928053e-02,  2.39641556e-01, -2.85024106e-01,\n",
       "        -5.11543308e-01,  5.80459940e-01, -2.16100631e-01,\n",
       "        -1.94736753e-01, -2.61290212e-01, -3.46074784e-01,\n",
       "         1.23807924e-01,  1.47202438e-01,  3.03937991e-01,\n",
       "        -8.88811237e-02, -1.41151509e-01, -1.32461361e-01,\n",
       "        -1.26010697e-01, -1.31903003e-02,  7.58524495e-02,\n",
       "         1.28184934e-01, -6.39653066e-02,  3.99904836e-02,\n",
       "         3.62157135e-02, -3.26187870e-03,  1.16127215e-01,\n",
       "        -1.35722988e-01, -1.44665920e-01, -5.37773685e-02,\n",
       "         1.24272414e-02, -2.58657397e-03,  2.37499322e-02,\n",
       "         1.71363814e-01, -2.16562283e-01],\n",
       "       [-9.07567857e-02, -5.76487344e-01, -1.81013792e-01,\n",
       "         6.50811151e-02, -2.40548276e-02, -5.63523667e-02,\n",
       "        -5.16165013e-03,  5.30778357e-02, -4.75434972e-03,\n",
       "         6.23670339e-03,  3.95674899e-02, -2.54473226e-02,\n",
       "        -4.27527061e-03, -1.09994236e-01,  1.09994236e-01,\n",
       "         8.85588732e-02, -7.67255559e-02, -2.79634480e-02,\n",
       "        -2.78045176e-02,  9.48111981e-02,  1.23360075e-03,\n",
       "        -4.36961797e-02, -3.98698100e-02, -2.13643808e-01,\n",
       "        -1.29361373e+00,  4.48950022e+00, -1.77029336e-01,\n",
       "        -5.81573877e-01,  7.52632464e-03, -7.52632464e-03,\n",
       "        -2.66226827e-01,  3.50878770e-01, -1.68023208e-01,\n",
       "        -6.64612063e-03,  1.75538134e-01, -1.90109683e-01,\n",
       "         1.69735508e-02,  8.69102870e-02, -2.16100631e-01,\n",
       "         1.02584098e-02,  5.32061202e-02, -2.60680487e-02,\n",
       "        -5.14811632e-02,  1.13973841e-01,  1.67688959e-02,\n",
       "        -8.88811237e-02, -1.41151509e-01, -1.32461361e-01,\n",
       "         2.72136746e-01, -1.39808735e-01, -1.04149466e-01,\n",
       "        -9.72332885e-02, -6.07744096e-02, -3.38348000e-02,\n",
       "         3.35373480e-02,  8.88137984e-02,  7.18837109e-02,\n",
       "        -1.35722988e-01, -1.44665920e-01, -8.24515436e-03,\n",
       "        -1.76459983e-02,  2.43546867e-02,  4.56551326e-02,\n",
       "        -7.45180889e-02,  5.09334996e-02],\n",
       "       [-7.47185065e-02, -5.86686405e-01, -1.00749523e-01,\n",
       "         6.15354814e-03, -1.94070247e-02, -1.03043709e-01,\n",
       "        -2.59481561e-02,  6.03833017e-02,  4.33503594e-02,\n",
       "        -5.66154263e-02,  6.83804923e-03,  4.25915888e-02,\n",
       "        -4.55446648e-02, -1.09054996e-01,  1.09054996e-01,\n",
       "         9.37113039e-02, -1.45448959e-01,  7.32478739e-02,\n",
       "         2.62324625e-02, -1.12357423e-01,  9.91133943e-02,\n",
       "        -6.38488367e-03,  8.48362586e-02,  4.68068796e+00,\n",
       "        -1.29361373e+00, -2.22741942e-01, -1.77029336e-01,\n",
       "        -5.81573877e-01,  1.85460268e-01, -1.85460268e-01,\n",
       "        -2.82139294e-01,  4.35617088e-01, -2.59360059e-01,\n",
       "         2.94295602e-01,  8.61817444e-02, -3.33616245e-01,\n",
       "         2.33412238e-02,  8.09639056e-02, -2.16100631e-01,\n",
       "         3.00169797e-02, -1.01200212e-01,  9.24886634e-02,\n",
       "         7.80996618e-02,  1.03936631e-01, -7.18967704e-02,\n",
       "        -8.88811237e-02, -1.41151509e-01, -1.32461361e-01,\n",
       "         2.56255022e-01, -1.90298284e-01, -2.29461220e-02,\n",
       "        -9.11747820e-02, -1.39830368e-01,  4.97139983e-02,\n",
       "         1.06782578e-01,  9.85379583e-03, -2.20645562e-02,\n",
       "        -1.35722988e-01, -1.44665920e-01,  8.38777123e-02,\n",
       "         5.71294818e-02,  9.08203890e-03,  2.37693788e-02,\n",
       "        -5.89639267e-02,  4.98456300e-02],\n",
       "       [-6.81701368e-02,  3.53043615e-01, -1.43923951e-01,\n",
       "         2.15511372e-02,  2.00521768e-03,  1.32485430e-02,\n",
       "         2.33600138e-02, -3.35812169e-01, -2.08128786e-02,\n",
       "         2.44696508e-02,  1.60603524e-02, -5.33857529e-03,\n",
       "        -1.78064782e-02,  2.90486992e-01, -2.90486992e-01,\n",
       "         2.09040517e-02, -2.59196434e-02,  5.89622260e-03,\n",
       "         8.26319940e-03, -1.87186553e-02,  1.05635150e-02,\n",
       "        -8.17972460e-03,  2.36743029e-02, -2.13643808e-01,\n",
       "         4.60628906e-01, -2.22741942e-01, -1.09287351e-01,\n",
       "        -2.60497708e-01,  2.82332581e-02, -2.82332581e-02,\n",
       "         2.39521482e-01, -3.02718195e-01,  1.34641524e-01,\n",
       "         6.62103516e-02,  2.27463001e-01, -3.06764467e-01,\n",
       "         1.95486870e+00, -1.72277177e+00, -2.16100631e-01,\n",
       "         6.87219180e-01,  1.00035205e+00,  1.35566646e+00,\n",
       "        -4.01244041e-01, -5.33983797e-01, -7.95286310e-01,\n",
       "        -8.88811237e-02, -1.41151509e-01, -1.32461361e-01,\n",
       "        -7.72830986e-02, -6.05568330e-02,  7.56627884e-02,\n",
       "         1.22539397e-01, -3.34122993e-02,  1.43178417e-02,\n",
       "         7.78766631e-03,  1.90112873e-02,  3.94236200e-02,\n",
       "        -1.35722988e-01, -1.44665920e-01,  5.52039874e-03,\n",
       "        -6.84935557e-03,  4.50062848e-02, -2.77500786e-02,\n",
       "         2.44884857e-02, -6.89290412e-03],\n",
       "       [-3.16273542e-02,  3.94213164e-01, -1.41017170e-01,\n",
       "        -3.58408694e-02, -5.90320388e-02,  2.22611004e-02,\n",
       "        -2.82796684e-02,  1.55789187e-01,  1.53867413e-02,\n",
       "        -7.72272830e-03, -1.56310307e-02, -2.15617258e-02,\n",
       "         4.10823179e-02,  4.12317406e-01, -4.12317406e-01,\n",
       "        -7.25204993e-03, -1.59141969e-02,  3.78134655e-02,\n",
       "        -1.48701105e-02, -2.90031025e-02, -2.68033901e-02,\n",
       "         8.33133177e-02, -4.66529805e-02, -2.13643808e-01,\n",
       "         7.15815368e-01, -2.22741942e-01, -1.57476097e-02,\n",
       "        -5.81573877e-01, -7.07057372e-02,  7.07057372e-02,\n",
       "        -4.94416605e-01,  7.66274777e-01, -4.58203442e-01,\n",
       "         3.35350953e-02,  1.88279500e-01, -2.36744860e-01,\n",
       "        -5.11543308e-01,  5.80459940e-01, -2.16100631e-01,\n",
       "        -1.94736753e-01, -2.61290212e-01, -3.46074784e-01,\n",
       "         1.16497767e-01,  2.18414587e-01,  2.48386488e-01,\n",
       "        -8.88811237e-02, -1.41151509e-01, -1.32461361e-01,\n",
       "        -1.87203583e-01,  3.75616653e-02,  8.20640100e-02,\n",
       "         1.41298132e-01, -4.93619240e-02,  1.79687919e-02,\n",
       "         2.98556353e-02,  1.16796408e-02,  3.32576748e-02,\n",
       "        -1.35722988e-01, -1.44665920e-01, -2.66380951e-03,\n",
       "        -1.23499302e-02,  6.36312669e-02, -2.27583135e-02,\n",
       "        -2.15738392e-01,  2.67125011e-01],\n",
       "       [-1.23025990e-01, -1.23803558e+00, -1.16533321e-01,\n",
       "        -5.39009270e-03,  4.39774705e-02, -1.98990716e-02,\n",
       "         7.29196152e-03,  6.15867446e-01,  7.02940212e-03,\n",
       "        -2.19238312e-02,  7.72296321e-03,  1.14959470e-02,\n",
       "        -1.65573577e-03,  4.12317406e-01, -4.12317406e-01,\n",
       "        -2.66496918e-02,  1.57797944e-02,  2.01118752e-02,\n",
       "         6.50115683e-03, -1.20257127e-02, -1.25156397e-01,\n",
       "         1.70945233e-01, -1.88600331e-01, -2.13643808e-01,\n",
       "        -1.29361373e+00, -2.22741942e-01, -1.37559074e-01,\n",
       "         1.70388226e+00, -7.15367641e-02,  7.15367641e-02,\n",
       "        -4.87595460e-01,  7.49435023e-01, -4.43891029e-01,\n",
       "        -2.58434357e-01, -7.06499973e-01,  9.95434551e-01,\n",
       "        -1.58960020e-01,  2.51203916e-01, -2.16100631e-01,\n",
       "        -4.66846910e-02, -7.29333303e-02, -1.22474775e-01,\n",
       "         5.35597206e-02,  7.09522633e-02,  1.25366914e-01,\n",
       "        -8.88811237e-02, -1.41151509e-01, -1.32461361e-01,\n",
       "         2.36489311e-01, -2.09639851e-01,  2.21680831e-02,\n",
       "        -8.36527452e-02,  1.17188550e-02, -4.03523258e-03,\n",
       "        -4.45189195e-03, -6.00075378e-03,  5.44300828e-02,\n",
       "        -1.35722988e-01, -1.44665920e-01,  4.01991471e-02,\n",
       "        -8.57410809e-03, -6.30592347e-03, -8.37394568e-03,\n",
       "        -4.39416665e-02,  5.72956210e-02]])"
      ]
     },
     "execution_count": 24,
     "metadata": {},
     "output_type": "execute_result"
    }
   ],
   "source": [
    "kmeans.cluster_centers_"
   ]
  },
  {
   "cell_type": "code",
   "execution_count": 25,
   "metadata": {},
   "outputs": [],
   "source": [
    "def DaviesBouldin(X, labels):\n",
    "    n_cluster = len(np.bincount(labels))\n",
    "    cluster_k = [X[labels == k] for k in range(n_cluster)]\n",
    "    centroids = [np.mean(k, axis = 0) for k in cluster_k]\n",
    "    variances = [np.mean([euclidean(p, centroids[i]) for p in k]) for i, k in enumerate(cluster_k)]\n",
    "    db = []\n",
    "\n",
    "    for i in range(n_cluster):\n",
    "        for j in range(n_cluster):\n",
    "            if j != i:\n",
    "                db.append((variances[i] + variances[j]) / euclidean(centroids[i], centroids[j]))\n",
    "\n",
    "    return(np.max(db) / n_cluster)"
   ]
  },
  {
   "cell_type": "code",
   "execution_count": null,
   "metadata": {},
   "outputs": [],
   "source": [
    "\n"
   ]
  },
  {
   "cell_type": "code",
   "execution_count": 35,
   "metadata": {},
   "outputs": [],
   "source": [
    "labels=kmeans.labels_\n"
   ]
  },
  {
   "cell_type": "code",
   "execution_count": 33,
   "metadata": {},
   "outputs": [],
   "source": [
    "from sklearn.metrics import davies_bouldin_score \n"
   ]
  },
  {
   "cell_type": "code",
   "execution_count": 37,
   "metadata": {},
   "outputs": [
    {
     "name": "stdout",
     "output_type": "stream",
     "text": [
      "3.0001350735312\n"
     ]
    }
   ],
   "source": [
    "print(davies_bouldin_score(dat_scaled,labels)) \n"
   ]
  },
  {
   "cell_type": "code",
   "execution_count": null,
   "metadata": {},
   "outputs": [],
   "source": []
  }
 ],
 "metadata": {
  "kernelspec": {
   "display_name": "Python 3",
   "language": "python",
   "name": "python3"
  },
  "language_info": {
   "codemirror_mode": {
    "name": "ipython",
    "version": 3
   },
   "file_extension": ".py",
   "mimetype": "text/x-python",
   "name": "python",
   "nbconvert_exporter": "python",
   "pygments_lexer": "ipython3",
   "version": "3.7.3"
  }
 },
 "nbformat": 4,
 "nbformat_minor": 2
}
